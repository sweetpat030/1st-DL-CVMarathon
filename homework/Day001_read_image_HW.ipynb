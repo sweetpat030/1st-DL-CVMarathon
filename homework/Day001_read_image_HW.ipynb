{
 "cells": [
  {
   "cell_type": "markdown",
   "metadata": {},
   "source": [
    "# 作業\n",
    "\n",
    "思考一下我們前面有提到圖片是矩陣，但維度可能會不一樣\n",
    "例如灰階圖只有兩個維度，RGB 彩圖則有 3 個維度\n",
    "\n",
    "假如今天我們把 RGB 3 個維度拆開來看會有甚麼不同的效果呢？"
   ]
  },
  {
   "cell_type": "code",
   "execution_count": 22,
   "metadata": {},
   "outputs": [
    {
     "data": {
      "text/plain": [
       "array([[[125, 137, 226],\n",
       "        [125, 137, 226],\n",
       "        [133, 137, 223],\n",
       "        ...,\n",
       "        [122, 148, 230],\n",
       "        [110, 130, 221],\n",
       "        [ 90,  99, 200]],\n",
       "\n",
       "       [[125, 137, 226],\n",
       "        [125, 137, 226],\n",
       "        [133, 137, 223],\n",
       "        ...,\n",
       "        [122, 148, 230],\n",
       "        [110, 130, 221],\n",
       "        [ 90,  99, 200]],\n",
       "\n",
       "       [[125, 137, 226],\n",
       "        [125, 137, 226],\n",
       "        [133, 137, 223],\n",
       "        ...,\n",
       "        [122, 148, 230],\n",
       "        [110, 130, 221],\n",
       "        [ 90,  99, 200]],\n",
       "\n",
       "       ...,\n",
       "\n",
       "       [[ 60,  18,  84],\n",
       "        [ 60,  18,  84],\n",
       "        [ 58,  27,  92],\n",
       "        ...,\n",
       "        [ 84,  73, 173],\n",
       "        [ 76,  68, 172],\n",
       "        [ 79,  62, 177]],\n",
       "\n",
       "       [[ 57,  22,  82],\n",
       "        [ 57,  22,  82],\n",
       "        [ 62,  32,  96],\n",
       "        ...,\n",
       "        [ 79,  70, 179],\n",
       "        [ 81,  71, 181],\n",
       "        [ 81,  74, 185]],\n",
       "\n",
       "       [[ 57,  22,  82],\n",
       "        [ 57,  22,  82],\n",
       "        [ 62,  32,  96],\n",
       "        ...,\n",
       "        [ 79,  70, 179],\n",
       "        [ 81,  71, 181],\n",
       "        [ 81,  74, 185]]], dtype=uint8)"
      ]
     },
     "execution_count": 22,
     "metadata": {},
     "output_type": "execute_result"
    }
   ],
   "source": [
    "import cv2\n",
    "import numpy as np\n",
    "\n",
    "image_path='data/lena.png'\n",
    "\n",
    "img_array = cv2.imread(image_path)\n",
    "img_array\n",
    "\n",
    "#cv2.imr"
   ]
  },
  {
   "cell_type": "code",
   "execution_count": 23,
   "metadata": {},
   "outputs": [
    {
     "data": {
      "text/plain": [
       "numpy.ndarray"
      ]
     },
     "execution_count": 23,
     "metadata": {},
     "output_type": "execute_result"
    }
   ],
   "source": [
    "type(img_array)"
   ]
  },
  {
   "cell_type": "code",
   "execution_count": 24,
   "metadata": {},
   "outputs": [
    {
     "data": {
      "text/plain": [
       "(512, 512, 3)"
      ]
     },
     "execution_count": 24,
     "metadata": {},
     "output_type": "execute_result"
    }
   ],
   "source": [
    "img_array.shape"
   ]
  },
  {
   "cell_type": "code",
   "execution_count": 25,
   "metadata": {},
   "outputs": [],
   "source": [
    "img_s=np.dsplit(img_array,3)"
   ]
  },
  {
   "cell_type": "code",
   "execution_count": 26,
   "metadata": {},
   "outputs": [],
   "source": [
    "img_rch=img_s[0]\n",
    "img_gch=img_s[1]\n",
    "img_bch=img_s[2]"
   ]
  },
  {
   "cell_type": "code",
   "execution_count": 27,
   "metadata": {},
   "outputs": [],
   "source": [
    "\n",
    "# 為了要不斷顯示圖片，所以使用一個迴圈\n",
    "while True:\n",
    "    \n",
    "    cv2.imshow('red', img_rch)\n",
    "\n",
    "    cv2.imshow('green', img_gch)\n",
    "    cv2.imshow('blue', img_bch)\n",
    "    \n",
    "\n",
    "    # 直到按下 ESC 鍵才會自動關閉視窗結束程式\n",
    "    k = cv2.waitKey(0)\n",
    "    if k == 27:\n",
    "        cv2.destroyAllWindows()\n",
    "        break"
   ]
  },
  {
   "cell_type": "code",
   "execution_count": null,
   "metadata": {},
   "outputs": [],
   "source": []
  }
 ],
 "metadata": {
  "kernelspec": {
   "display_name": "Python 3",
   "language": "python",
   "name": "python3"
  },
  "language_info": {
   "codemirror_mode": {
    "name": "ipython",
    "version": 3
   },
   "file_extension": ".py",
   "mimetype": "text/x-python",
   "name": "python",
   "nbconvert_exporter": "python",
   "pygments_lexer": "ipython3",
   "version": "3.7.6"
  }
 },
 "nbformat": 4,
 "nbformat_minor": 2
}
